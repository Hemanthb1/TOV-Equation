{
 "cells": [
  {
   "cell_type": "code",
   "execution_count": 2,
   "metadata": {},
   "outputs": [],
   "source": [
    "import numpy as np # for arrays and math\n",
    "import matplotlib.pyplot as plt # for plotting\n",
    "\n",
    "# Conversion factors\n",
    "LCGS = 1.476701332464468e+05 "
   ]
  },
  {
   "cell_type": "code",
   "execution_count": 3,
   "metadata": {},
   "outputs": [],
   "source": [
    "def EOS_p2erc(p, K=100., Gamma=2):\n",
    "    ene = (p/K)**(1./Gamma) + p/(Gamma-1.)\n",
    "    rho = (p/K)**(1./Gamma)                       \n",
    "    cs2 = K*Gamma*(Gamma-1)/(Gamma-1 + K*Gamma*rho**(Gamma-1))*rho**(Gamma-1)\n",
    "    return ene, rho, cs2\n",
    "\n",
    "def EOS_r2pe(rho, K=100., Gamma=2):\n",
    "    p = K*rho**Gamma\n",
    "    e = rho + p/(Gamma-1.);\n",
    "    return p, e"
   ]
  },
  {
   "cell_type": "code",
   "execution_count": 4,
   "metadata": {},
   "outputs": [],
   "source": [
    "def TOV(t, y):\n",
    "    r = t\n",
    "    m = y[0] # mass of a sphere of radius r\n",
    "    p = y[1] # pressure\n",
    "    ene, dummy1, dummy2 = EOS_p2erc(p) \n",
    "    dy = np.empty_like(y)\n",
    "    dy[0] = 4*np.pi*ene*r**2                               \n",
    "    dy[1] = -(ene+p)*(m + 4*np.pi*r**3*p)/(r*(r-2*m))\n",
    "    return dy\n",
    "  \n",
    "def found_radius(t,y ,pfloor=0.):\n",
    "  \"\"\"\n",
    "  Event function: Zero of pressure \n",
    "  ODE integration stops when this function returns True\n",
    "  \"\"\"\n",
    "  return ((y[1]-pfloor)<=0.)"
   ]
  },
  {
   "cell_type": "code",
   "execution_count": 35,
   "metadata": {},
   "outputs": [],
   "source": [
    "def solve_ode_euler(t, y0, dydt_fun, stop_event=None, verbose=False):\n",
    "    \n",
    "    N = len(t)\n",
    "    dt = np.diff(t)[0]               # assume a uniformly space t array\n",
    "    y = y0\n",
    "    for i in range(N):\n",
    "        yprev = np.copy(y)           # store previous for returning pre-event data\n",
    "        y += dt * dydt_fun(t[i],y)\n",
    "        if verbose:print(t[i],y)\n",
    "        if stop_event: \n",
    "         if bool(stop_event(t[i],y)): \n",
    "                    print('Event reached')\n",
    "                    return t[i-1], yprev \n",
    "    if stop_event: \n",
    "                    print('No event reached')\n",
    "                    return t[i], y"
   ]
  },
  {
   "cell_type": "code",
   "execution_count": 36,
   "metadata": {},
   "outputs": [],
   "source": [
    "rmin, rmax = 1e-6, 20. \n",
    "N = 100 # number of points between rmin and rmax\n",
    "rspan = np.linspace(rmin,rmax,N)"
   ]
  },
  {
   "cell_type": "code",
   "execution_count": 37,
   "metadata": {},
   "outputs": [
    {
     "name": "stdout",
     "output_type": "stream",
     "text": [
      "[6.047942849278782e-21, 0.00016384000000000003]\n"
     ]
    }
   ],
   "source": [
    "rho0 = 1.28e-3 # Central (maximal) rest-mass density\n",
    "p0,e0 = EOS_r2pe(rho0)\n",
    "m0    = 4./3.*np.pi*e0*rmin**3\n",
    "sol0 = [m0, p0]\n",
    "print(sol0)\n"
   ]
  },
  {
   "cell_type": "code",
   "execution_count": 50,
   "metadata": {},
   "outputs": [
    {
     "name": "stdout",
     "output_type": "stream",
     "text": [
      "Mass and Pressure at different radius in range of rspan is given by:\n",
      "1e-06 [3.66542577e-15 1.63839997e-04]\n",
      "0.2020211919191919 [0.0001496 0.0001637]\n",
      "0.4040413838383838 [0.0007477  0.00016314]\n",
      "0.6060615757575757 [0.00209083 0.00016207]\n",
      "0.8080817676767676 [0.00446993 0.0001605 ]\n",
      "1.0101019595959595 [0.00816716 0.00015842]\n",
      "1.2121221515151512 [0.01345275 0.00015585]\n",
      "1.4141423434343432 [0.02058188 0.0001528 ]\n",
      "1.6161625353535352 [0.02979174 0.00014929]\n",
      "1.8181827272727271 [0.04129865 0.00014534]\n",
      "2.0202029191919193 [0.05529546 0.00014099]\n",
      "2.222223111111111 [0.07194903 0.00013626]\n",
      "2.4242433030303028 [0.09139805 0.0001312 ]\n",
      "2.626263494949495 [0.11375106 0.00012582]\n",
      "2.8282836868686867 [1.39084737e-01 1.20181310e-04]\n",
      "3.030303878787879 [1.67442540e-01 1.14317323e-04]\n",
      "3.2323240707070706 [1.98833631e-01 1.08271592e-04]\n",
      "3.4343442626262624 [2.33232149e-01 1.02087756e-04]\n",
      "3.6363644545454545 [2.70576832e-01 9.58100324e-05]\n",
      "3.8383846464646463 [3.10770998e-01 8.94827450e-05]\n",
      "4.0404048383838385 [3.53682889e-01 8.31498446e-05]\n",
      "4.24242503030303 [3.99146373e-01 7.68544244e-05]\n",
      "4.444445222222222 [4.46962017e-01 7.06382409e-05]\n",
      "4.646465414141414 [4.96898498e-01 6.45412458e-05]\n",
      "4.848485606060605 [5.48694354e-01 5.86011369e-05]\n",
      "5.050505797979798 [6.02060049e-01 5.28529351e-05]\n",
      "5.25252598989899 [6.56680328e-01 4.73285976e-05]\n",
      "5.4545461818181815 [7.12216819e-01 4.20566737e-05]\n",
      "5.656566373737373 [7.68310866e-01 3.70620127e-05]\n",
      "5.858586565656565 [8.24586516e-01 3.23655309e-05]\n",
      "6.060606757575758 [8.80653643e-01 2.79840448e-05]\n",
      "6.262626949494949 [9.36111116e-01 2.39301761e-05]\n",
      "6.464647141414141 [9.90549971e-01 2.02123320e-05]\n",
      "6.666667333333333 [1.04355649e+00 1.68347640e-05]\n",
      "6.868687525252525 [1.09471513e+00 1.37977040e-05]\n",
      "7.070707717171717 [1.14361114e+00 1.10975772e-05]\n",
      "7.272727909090909 [1.18983278e+00 8.72728651e-06]\n",
      "7.474748101010101 [1.23297291e+00 6.67656391e-06]\n",
      "7.676768292929292 [1.27262967e+00 4.93238436e-06]\n",
      "7.878788484848484 [1.30840566e+00 3.47943951e-06]\n",
      "8.080808676767676 [1.33990456e+00 2.30068035e-06]\n",
      "8.282828868686867 [1.36672266e+00 1.37796585e-06]\n",
      "8.48484906060606 [1.38842869e+00 6.92946483e-07]\n",
      "8.686869252525252 [1.40450852e+00 2.28677883e-07]\n",
      "8.888889444444443 [ 1.41414644e+00 -2.51543525e-08]\n",
      "Event reached\n",
      "we can see that mass approaches 1.4 solar mass and pressure drastically reduces from center to outer edge of star\n"
     ]
    }
   ],
   "source": [
    "print(\"Mass and Pressure at different radius in range of rspan is given by:\")\n",
    "t, sol = solve_ode_euler(rspan, sol0, TOV, stop_event=found_radius, verbose=True)\n",
    "print(\"we can see that mass approaches 1.4 solar mass and pressure drastically reduces from center to outer edge of star\")"
   ]
  },
  {
   "cell_type": "code",
   "execution_count": 51,
   "metadata": {},
   "outputs": [
    {
     "name": "stdout",
     "output_type": "stream",
     "text": [
      "Hence obtained minimum pressure,Radisu in Km,Mass in Solar mass are 2.2867788285059276e-07 12.82791140014866 1.4045085183791897 respectively\n"
     ]
    }
   ],
   "source": [
    "# Get mass and radius\n",
    "R = t * LCGS * 1e-5 # km \n",
    "M = sol[0] # Msun\n",
    "pmin = sol[1]\n",
    "print(\"Hence obtained minimum pressure,Radisu in Km,Mass in Solar mass are\",pmin,R,M,\"respectively\")"
   ]
  },
  {
   "cell_type": "code",
   "execution_count": null,
   "metadata": {},
   "outputs": [],
   "source": []
  },
  {
   "cell_type": "code",
   "execution_count": null,
   "metadata": {},
   "outputs": [],
   "source": []
  }
 ],
 "metadata": {
  "kernelspec": {
   "display_name": "Python 3",
   "language": "python",
   "name": "python3"
  },
  "language_info": {
   "codemirror_mode": {
    "name": "ipython",
    "version": 3
   },
   "file_extension": ".py",
   "mimetype": "text/x-python",
   "name": "python",
   "nbconvert_exporter": "python",
   "pygments_lexer": "ipython3",
   "version": "3.7.3"
  }
 },
 "nbformat": 4,
 "nbformat_minor": 2
}
